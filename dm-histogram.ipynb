{
 "cells": [
  {
   "cell_type": "code",
   "execution_count": 1,
   "metadata": {},
   "outputs": [],
   "source": [
    "import numpy as np\n",
    "import pylab as plt"
   ]
  },
  {
   "cell_type": "code",
   "execution_count": 3,
   "metadata": {},
   "outputs": [],
   "source": [
    "data = np.loadtxt(\"dm_width_snr_57590.txt\",usecols=(0))"
   ]
  },
  {
   "cell_type": "code",
   "execution_count": 7,
   "metadata": {
    "scrolled": false
   },
   "outputs": [
    {
     "data": {
      "text/plain": [
       "(array([2081., 1558., 2415.,  353.,  297.,  256.,  293.,  339.,  273.,\n",
       "         251.,  699.,  601.,  600.,  525.,  439.,  504.,  542.,  417.,\n",
       "         462.,  472.,  433.,  524.,  487.,  442.,  434.,  448.,  413.,\n",
       "         463.,  465.,  390.,  386.,  373.,  670.,  305.,  247.,  219.,\n",
       "         207.,  203.,  166.,  202.,  160.,  141.,  152.,  126.,  143.,\n",
       "         127.,  146.,  115.,  158.,  211.]),\n",
       " array([ 200.  ,  236.14,  272.28,  308.42,  344.56,  380.7 ,  416.84,\n",
       "         452.98,  489.12,  525.26,  561.4 ,  597.54,  633.68,  669.82,\n",
       "         705.96,  742.1 ,  778.24,  814.38,  850.52,  886.66,  922.8 ,\n",
       "         958.94,  995.08, 1031.22, 1067.36, 1103.5 , 1139.64, 1175.78,\n",
       "        1211.92, 1248.06, 1284.2 , 1320.34, 1356.48, 1392.62, 1428.76,\n",
       "        1464.9 , 1501.04, 1537.18, 1573.32, 1609.46, 1645.6 , 1681.74,\n",
       "        1717.88, 1754.02, 1790.16, 1826.3 , 1862.44, 1898.58, 1934.72,\n",
       "        1970.86, 2007.  ]),\n",
       " <a list of 50 Patch objects>)"
      ]
     },
     "execution_count": 7,
     "metadata": {},
     "output_type": "execute_result"
    },
    {
     "data": {
      "image/png": "[encoded data removed]",
      "text/plain": [
       "<Figure size 432x288 with 1 Axes>"
      ]
     },
     "metadata": {
      "needs_background": "light"
     },
     "output_type": "display_data"
    }
   ],
   "source": [
    "plt.hist(data,bins=50)"
   ]
  },
  {
   "cell_type": "code",
   "execution_count": 8,
   "metadata": {},
   "outputs": [
    {
     "data": {
      "text/plain": [
       "(array([972., 779., 793.,  35.,  48.,  38.,  35.,  47.,  41.,  39., 306.,\n",
       "        319., 315., 318., 267., 257., 285., 209., 240., 228., 176., 223.,\n",
       "        271., 251., 225., 255., 249., 242., 245., 294., 296., 323., 665.,\n",
       "        264., 278., 300., 189., 285., 269., 185., 235., 251., 234., 210.,\n",
       "        222., 288., 237., 232., 216., 330.]),\n",
       " array([ 200.  ,  236.14,  272.28,  308.42,  344.56,  380.7 ,  416.84,\n",
       "         452.98,  489.12,  525.26,  561.4 ,  597.54,  633.68,  669.82,\n",
       "         705.96,  742.1 ,  778.24,  814.38,  850.52,  886.66,  922.8 ,\n",
       "         958.94,  995.08, 1031.22, 1067.36, 1103.5 , 1139.64, 1175.78,\n",
       "        1211.92, 1248.06, 1284.2 , 1320.34, 1356.48, 1392.62, 1428.76,\n",
       "        1464.9 , 1501.04, 1537.18, 1573.32, 1609.46, 1645.6 , 1681.74,\n",
       "        1717.88, 1754.02, 1790.16, 1826.3 , 1862.44, 1898.58, 1934.72,\n",
       "        1970.86, 2007.  ]),\n",
       " <a list of 50 Patch objects>)"
      ]
     },
     "execution_count": 8,
     "metadata": {},
     "output_type": "execute_result"
    },
    {
     "data": {
      "image/png": "[encoded data removed]",
      "text/plain": [
       "<Figure size 432x288 with 1 Axes>"
      ]
     },
     "metadata": {
      "needs_background": "light"
     },
     "output_type": "display_data"
    }
   ],
   "source": [
    "data2 = np.loadtxt(\"dm_width_snr_57709.txt\",usecols=(0))\n",
    "plt.hist(data2,bins=50)\n",
    "plt."
   ]
  },
  {
   "cell_type": "code",
   "execution_count": 9,
   "metadata": {},
   "outputs": [
    {
     "data": {
      "text/plain": [
       "(array([2614., 1987., 3024.,  529.,  394.,  393.,  416.,  379.,  404.,\n",
       "         385.,  851.,  752.,  765.,  698.,  582.,  632.,  727.,  525.,\n",
       "         597.,  607.,  556.,  566.,  608.,  485.,  492.,  560.,  444.,\n",
       "         505.,  470.,  470.,  451.,  436.,  753.,  205.,  218.,  211.,\n",
       "         186.,  226.,  221.,  190.,  230.,  213.,  197.,  209.,  222.,\n",
       "         209.,  192.,  272.,  224.,  384.]),\n",
       " array([ 200.  ,  236.14,  272.28,  308.42,  344.56,  380.7 ,  416.84,\n",
       "         452.98,  489.12,  525.26,  561.4 ,  597.54,  633.68,  669.82,\n",
       "         705.96,  742.1 ,  778.24,  814.38,  850.52,  886.66,  922.8 ,\n",
       "         958.94,  995.08, 1031.22, 1067.36, 1103.5 , 1139.64, 1175.78,\n",
       "        1211.92, 1248.06, 1284.2 , 1320.34, 1356.48, 1392.62, 1428.76,\n",
       "        1464.9 , 1501.04, 1537.18, 1573.32, 1609.46, 1645.6 , 1681.74,\n",
       "        1717.88, 1754.02, 1790.16, 1826.3 , 1862.44, 1898.58, 1934.72,\n",
       "        1970.86, 2007.  ]),\n",
       " <a list of 50 Patch objects>)"
      ]
     },
     "execution_count": 9,
     "metadata": {},
     "output_type": "execute_result"
    },
    {
     "data": {
      "image/png": "[encoded data removed]",
      "text/plain": [
       "<Figure size 432x288 with 1 Axes>"
      ]
     },
     "metadata": {
      "needs_background": "light"
     },
     "output_type": "display_data"
    }
   ],
   "source": [
    "data2 = np.loadtxt(\"dm_width_snr_57757.txt\",usecols=(0))\n",
    "plt.hist(data2,bins=50)"
   ]
  },
  {
   "cell_type": "code",
   "execution_count": 10,
   "metadata": {},
   "outputs": [
    {
     "data": {
      "text/plain": [
       "(array([67., 59., 78., 15., 13., 12., 10., 15., 18.,  7., 30., 30., 34.,\n",
       "        35., 23., 18., 23., 19., 13., 21., 15., 14., 15., 16., 16., 11.,\n",
       "        17.,  9., 12., 14.,  7.,  8., 33., 25., 20., 20., 16., 13., 27.,\n",
       "        21., 18., 21., 13., 17., 16., 27., 24., 29., 28., 38.]),\n",
       " array([ 200.  ,  236.14,  272.28,  308.42,  344.56,  380.7 ,  416.84,\n",
       "         452.98,  489.12,  525.26,  561.4 ,  597.54,  633.68,  669.82,\n",
       "         705.96,  742.1 ,  778.24,  814.38,  850.52,  886.66,  922.8 ,\n",
       "         958.94,  995.08, 1031.22, 1067.36, 1103.5 , 1139.64, 1175.78,\n",
       "        1211.92, 1248.06, 1284.2 , 1320.34, 1356.48, 1392.62, 1428.76,\n",
       "        1464.9 , 1501.04, 1537.18, 1573.32, 1609.46, 1645.6 , 1681.74,\n",
       "        1717.88, 1754.02, 1790.16, 1826.3 , 1862.44, 1898.58, 1934.72,\n",
       "        1970.86, 2007.  ]),\n",
       " <a list of 50 Patch objects>)"
      ]
     },
     "execution_count": 10,
     "metadata": {},
     "output_type": "execute_result"
    },
    {
     "data": {
      "image/png": "[encoded data removed]",
      "text/plain": [
       "<Figure size 432x288 with 1 Axes>"
      ]
     },
     "metadata": {
      "needs_background": "light"
     },
     "output_type": "display_data"
    }
   ],
   "source": [
    "data2 = np.loadtxt(\"dm_width_snr_57758.txt\",usecols=(0))\n",
    "plt.hist(data2,bins=50)"
   ]
  },
  {
   "cell_type": "code",
   "execution_count": null,
   "metadata": {},
   "outputs": [],
   "source": []
  },
  {
   "cell_type": "code",
   "execution_count": null,
   "metadata": {},
   "outputs": [],
   "source": []
  },
  {
   "cell_type": "code",
   "execution_count": null,
   "metadata": {},
   "outputs": [],
   "source": []
  },
  {
   "cell_type": "code",
   "execution_count": 11,
   "metadata": {},
   "outputs": [
    {
     "data": {
      "text/plain": [
       "(array([38., 38., 32., 28., 31., 28., 31., 34., 32., 12., 12., 14., 17.,\n",
       "        25., 19., 17., 14., 18., 15., 10., 15., 19.,  3.,  6., 18.,  9.,\n",
       "         8.,  7.,  8.,  9., 14.,  6.,  6.,  6.,  3.,  6., 12.,  7.,  8.,\n",
       "        13., 12.,  4.,  9., 13., 16.,  3., 13., 13., 16., 17.]),\n",
       " array([ 200.       ,  236.0033667,  272.0067334,  308.0101001,\n",
       "         344.0134668,  380.0168335,  416.0202002,  452.0235669,\n",
       "         488.0269336,  524.0303003,  560.033667 ,  596.0370337,\n",
       "         632.0404004,  668.0437671,  704.0471338,  740.0505005,\n",
       "         776.0538672,  812.0572339,  848.0606006,  884.0639673,\n",
       "         920.067334 ,  956.0707007,  992.0740674, 1028.0774341,\n",
       "        1064.0808008, 1100.0841675, 1136.0875342, 1172.0909009,\n",
       "        1208.0942676, 1244.0976343, 1280.101001 , 1316.1043677,\n",
       "        1352.1077344, 1388.1111011, 1424.1144678, 1460.1178345,\n",
       "        1496.1212012, 1532.1245679, 1568.1279346, 1604.1313013,\n",
       "        1640.134668 , 1676.1380347, 1712.1414014, 1748.1447681,\n",
       "        1784.1481348, 1820.1515015, 1856.1548682, 1892.1582349,\n",
       "        1928.1616016, 1964.1649683, 2000.168335 ]),\n",
       " <a list of 50 Patch objects>)"
      ]
     },
     "execution_count": 11,
     "metadata": {},
     "output_type": "execute_result"
    },
    {
     "data": {
      "image/png": "[encoded data removed]",
      "text/plain": [
       "<Figure size 432x288 with 1 Axes>"
      ]
     },
     "metadata": {
      "needs_background": "light"
     },
     "output_type": "display_data"
    }
   ],
   "source": [
    "data = np.loadtxt(\"dm_width_snr_57758_new.txt\",usecols=(0))\n",
    "plt.hist(data,bins=50)"
   ]
  },
  {
   "cell_type": "code",
   "execution_count": 12,
   "metadata": {},
   "outputs": [
    {
     "data": {
      "text/plain": [
       "(array([26., 18., 14., 12., 14., 14.,  8., 18., 13., 19., 17., 20., 15.,\n",
       "         6., 17., 13., 13.,  8., 12., 14., 17., 14., 15., 13., 13., 15.,\n",
       "        12.,  6.,  8., 15., 18.,  7.,  4.,  8.,  5.,  4., 11.,  5.,  4.,\n",
       "         8.,  7.,  9.,  6.,  6.,  8., 11., 13.,  9., 17., 21.]),\n",
       " array([ 200.       ,  236.0033667,  272.0067334,  308.0101001,\n",
       "         344.0134668,  380.0168335,  416.0202002,  452.0235669,\n",
       "         488.0269336,  524.0303003,  560.033667 ,  596.0370337,\n",
       "         632.0404004,  668.0437671,  704.0471338,  740.0505005,\n",
       "         776.0538672,  812.0572339,  848.0606006,  884.0639673,\n",
       "         920.067334 ,  956.0707007,  992.0740674, 1028.0774341,\n",
       "        1064.0808008, 1100.0841675, 1136.0875342, 1172.0909009,\n",
       "        1208.0942676, 1244.0976343, 1280.101001 , 1316.1043677,\n",
       "        1352.1077344, 1388.1111011, 1424.1144678, 1460.1178345,\n",
       "        1496.1212012, 1532.1245679, 1568.1279346, 1604.1313013,\n",
       "        1640.134668 , 1676.1380347, 1712.1414014, 1748.1447681,\n",
       "        1784.1481348, 1820.1515015, 1856.1548682, 1892.1582349,\n",
       "        1928.1616016, 1964.1649683, 2000.168335 ]),\n",
       " <a list of 50 Patch objects>)"
      ]
     },
     "execution_count": 12,
     "metadata": {},
     "output_type": "execute_result"
    },
    {
     "data": {
      "image/png": "[encoded data removed]",
      "text/plain": [
       "<Figure size 432x288 with 1 Axes>"
      ]
     },
     "metadata": {
      "needs_background": "light"
     },
     "output_type": "display_data"
    }
   ],
   "source": [
    "data = np.loadtxt(\"dm_width_snr_57709_new.txt\",usecols=(0))\n",
    "plt.hist(data,bins=50)"
   ]
  },
  {
   "cell_type": "code",
   "execution_count": 13,
   "metadata": {},
   "outputs": [
    {
     "data": {
      "text/plain": [
       "(array([64., 56., 46., 40., 45., 42., 39., 52., 45., 31., 29., 34., 32.,\n",
       "        31., 36., 30., 27., 26., 27., 24., 32., 33., 18., 19., 31., 24.,\n",
       "        20., 13., 16., 24., 32., 13., 10., 14.,  8., 10., 23., 12., 12.,\n",
       "        21., 19., 13., 15., 19., 24., 14., 26., 22., 33., 38.]),\n",
       " array([ 200.       ,  236.0033667,  272.0067334,  308.0101001,\n",
       "         344.0134668,  380.0168335,  416.0202002,  452.0235669,\n",
       "         488.0269336,  524.0303003,  560.033667 ,  596.0370337,\n",
       "         632.0404004,  668.0437671,  704.0471338,  740.0505005,\n",
       "         776.0538672,  812.0572339,  848.0606006,  884.0639673,\n",
       "         920.067334 ,  956.0707007,  992.0740674, 1028.0774341,\n",
       "        1064.0808008, 1100.0841675, 1136.0875342, 1172.0909009,\n",
       "        1208.0942676, 1244.0976343, 1280.101001 , 1316.1043677,\n",
       "        1352.1077344, 1388.1111011, 1424.1144678, 1460.1178345,\n",
       "        1496.1212012, 1532.1245679, 1568.1279346, 1604.1313013,\n",
       "        1640.134668 , 1676.1380347, 1712.1414014, 1748.1447681,\n",
       "        1784.1481348, 1820.1515015, 1856.1548682, 1892.1582349,\n",
       "        1928.1616016, 1964.1649683, 2000.168335 ]),\n",
       " <a list of 50 Patch objects>)"
      ]
     },
     "execution_count": 13,
     "metadata": {},
     "output_type": "execute_result"
    },
    {
     "data": {
      "image/png": "[encoded data removed]",
      "text/plain": [
       "<Figure size 432x288 with 1 Axes>"
      ]
     },
     "metadata": {
      "needs_background": "light"
     },
     "output_type": "display_data"
    }
   ],
   "source": [
    "data = np.loadtxt(\"M82_NS_dm_width_snr.txt\",usecols=(0))\n",
    "plt.hist(data,bins=50)"
   ]
  },
  {
   "cell_type": "code",
   "execution_count": 22,
   "metadata": {
    "scrolled": true
   },
   "outputs": [
    {
     "data": {
      "image/png": "[encoded data removed]",
      "text/plain": [
       "<Figure size 432x288 with 1 Axes>"
      ]
     },
     "metadata": {
      "needs_background": "light"
     },
     "output_type": "display_data"
    }
   ],
   "source": [
    "data = np.loadtxt(\"M82_NS_dm_width_snr.txt\",usecols=(0))\n",
    "plt.hist(data,bins=20)\n",
    "plt.yscale('log')\n",
    "plt.savefig('hist.png')"
   ]
  },
  {
   "cell_type": "code",
   "execution_count": 4,
   "metadata": {},
   "outputs": [
    {
     "data": {
      "image/png": "[encoded data removed]",
      "text/plain": [
       "<Figure size 432x288 with 1 Axes>"
      ]
     },
     "metadata": {
      "needs_background": "light"
     },
     "output_type": "display_data"
    }
   ],
   "source": [
    "data = np.loadtxt(\"M82_HRT_dm_width_snr.txt\",usecols=(0))\n",
    "plt.hist(data,bins=20)\n",
    "plt.yscale('log')\n",
    "plt.savefig('hist_hrt.png')"
   ]
  },
  {
   "cell_type": "code",
   "execution_count": 13,
   "metadata": {},
   "outputs": [
    {
     "data": {
      "image/png": "[encoded data removed]",
      "text/plain": [
       "<Figure size 432x288 with 1 Axes>"
      ]
     },
     "metadata": {
      "needs_background": "light"
     },
     "output_type": "display_data"
    }
   ],
   "source": [
    "width = np.loadtxt(\"M82_HRT_dm_width_snr.txt\",usecols=(1))\n",
    "snr = np.loadtxt(\"M82_HRT_dm_width_snr.txt\",usecols=(2))\n",
    "plt.scatter(width,snr)\n",
    "# plt.yscale('log')\n",
    "plt.xlabel('width')\n",
    "plt.ylabel('snr')\n",
    "plt.savefig('hist_hrt.png')\n",
    "plt.show()"
   ]
  },
  {
   "cell_type": "code",
   "execution_count": 10,
   "metadata": {},
   "outputs": [
    {
     "data": {
      "text/plain": [
       "array([[29.491199,  8.29519 ],\n",
       "       [63.569918, 11.0794  ],\n",
       "       [63.569918, 10.8717  ],\n",
       "       ...,\n",
       "       [93.061119,  8.30138 ],\n",
       "       [63.569918,  8.26079 ],\n",
       "       [93.061119,  8.2111  ]])"
      ]
     },
     "execution_count": 10,
     "metadata": {},
     "output_type": "execute_result"
    }
   ],
   "source": [
    "data"
   ]
  }
 ],
 "metadata": {
  "kernelspec": {
   "display_name": "Python 3",
   "language": "python",
   "name": "python3"
  },
  "language_info": {
   "codemirror_mode": {
    "name": "ipython",
    "version": 3
   },
   "file_extension": ".py",
   "mimetype": "text/x-python",
   "name": "python",
   "nbconvert_exporter": "python",
   "pygments_lexer": "ipython3",
   "version": "3.7.4"
  }
 },
 "nbformat": 4,
 "nbformat_minor": 2
}
